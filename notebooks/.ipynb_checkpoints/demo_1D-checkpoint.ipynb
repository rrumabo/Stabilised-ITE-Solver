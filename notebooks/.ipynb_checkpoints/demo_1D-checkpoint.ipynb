{
 "cells": [
  {
   "cell_type": "markdown",
   "id": "f2c41902",
   "metadata": {},
   "source": [
    "# µ(τ)-Stabilized ITE — 1D Soliton Simulation Demo\n",
    "\n",
    "This notebook demonstrates the imaginary-time evolution (ITE) of a soliton under the nonlinear Schrödinger equation, stabilized using a dynamic feedback term µ(τ). The method improves norm conservation and convergence without explicit renormalization.\n",
    "\n",
    "We visualize:\n",
    "- The final wavefunction ψ(x, τ_final)\n",
    "- Norm behavior over time\n",
    "- µ(τ) feedback over time\n",
    "- L² error from the initial state"
   ]
  },
  {
   "cell_type": "code",
   "execution_count": 3,
   "id": "405e9cd0",
   "metadata": {},
   "outputs": [],
   "source": [
    "import os\n",
    "import sys\n",
    "import numpy as np\n",
    "import matplotlib.pyplot as plt\n",
    "\n",
    "sys.path.append(os.path.abspath(\"../src\"))"
   ]
  },
  {
   "cell_type": "code",
   "execution_count": null,
   "id": "183034fb-5757-4fce-8ae7-3a2f7e897283",
   "metadata": {},
   "outputs": [],
   "source": [
    "x = np.load(\"../output/grid_x.npy\")\n",
    "psi_final = np.load(\"../output/psi_final_alpha_0.5.npy\")\n",
    "\n",
    "psi_ref = 1 / np.cosh(x)\n",
    "psi_ref /= np.sqrt(np.trapz(np.abs(psi_ref)**2, dx=x[1]-x[0]))"
   ]
  },
  {
   "cell_type": "code",
   "execution_count": 4,
   "id": "3fe20c1f",
   "metadata": {},
   "outputs": [
    {
     "ename": "NameError",
     "evalue": "name 'x' is not defined",
     "output_type": "error",
     "traceback": [
      "\u001b[31m---------------------------------------------------------------------------\u001b[39m",
      "\u001b[31mNameError\u001b[39m                                 Traceback (most recent call last)",
      "\u001b[36mCell\u001b[39m\u001b[36m \u001b[39m\u001b[32mIn[4]\u001b[39m\u001b[32m, line 2\u001b[39m\n\u001b[32m      1\u001b[39m plt.figure(figsize=(\u001b[32m8\u001b[39m, \u001b[32m4\u001b[39m))\n\u001b[32m----> \u001b[39m\u001b[32m2\u001b[39m plt.plot(\u001b[43mx\u001b[49m, np.abs(psi_final), label=\u001b[33m\"\u001b[39m\u001b[33m|ψ_final|\u001b[39m\u001b[33m\"\u001b[39m, linewidth=\u001b[32m2\u001b[39m)\n\u001b[32m      3\u001b[39m plt.plot(x, np.abs(psi_ref), label=\u001b[33m\"\u001b[39m\u001b[33m|ψ_ref| (sech)\u001b[39m\u001b[33m\"\u001b[39m, linestyle=\u001b[33m\"\u001b[39m\u001b[33m--\u001b[39m\u001b[33m\"\u001b[39m, linewidth=\u001b[32m2\u001b[39m)\n\u001b[32m      4\u001b[39m plt.title(\u001b[33m\"\u001b[39m\u001b[33mFinal Wavefunction vs Reference Profile\u001b[39m\u001b[33m\"\u001b[39m)\n",
      "\u001b[31mNameError\u001b[39m: name 'x' is not defined"
     ]
    },
    {
     "data": {
      "text/plain": [
       "<Figure size 800x400 with 0 Axes>"
      ]
     },
     "metadata": {},
     "output_type": "display_data"
    }
   ],
   "source": [
    "plt.figure(figsize=(8, 4))\n",
    "plt.plot(x, np.abs(psi_final), label=\"|ψ_final|\", linewidth=2)\n",
    "plt.plot(x, np.abs(psi_ref), label=\"|ψ_ref| (sech)\", linestyle=\"--\", linewidth=2)\n",
    "plt.title(\"Final Wavefunction vs Reference Profile\")\n",
    "plt.xlabel(\"x\")\n",
    "plt.ylabel(\"|ψ(x)|\")\n",
    "plt.legend()\n",
    "plt.grid(True)\n",
    "plt.tight_layout()\n",
    "plt.show()"
   ]
  },
  {
   "cell_type": "code",
   "execution_count": null,
   "id": "f1efcb7f",
   "metadata": {},
   "outputs": [],
   "source": [
    "# Load simulation history (from α = 0.5 run)\n",
    "from solver import run_simulation\n",
    "from laplacian import make_laplacian_1d\n",
    "from hamiltonians import make_nlse_hamiltonian\n",
    "from initial_conditions import single_soliton_1d\n",
    "from l2_error import compute_l2_error\n",
    "\n",
    "grid_size = len(x)\n",
    "L = x[-1] - x[0] + (x[1] - x[0])\n",
    "dx = L / grid_size\n",
    "dt = 0.001\n",
    "steps = 2000\n",
    "alpha = 0.5\n",
    "g = 1.5\n",
    "\n",
    "psi0 = single_soliton_1d(grid_size=grid_size, L=L)\n",
    "psi_ref = psi0.copy()\n",
    "\n",
    "laplacian = make_laplacian_1d(grid_size=grid_size, L=L)\n",
    "hamiltonian = make_nlse_hamiltonian(laplacian, g=g)\n",
    "results = run_simulation(psi0, hamiltonian, alpha, dt, steps, dx)\n",
    "\n",
    "norms = results[\"norm_history\"]\n",
    "mus = results[\"mu_history\"]\n",
    "errors = [\n",
    "    compute_l2_error(psi_t, psi_ref, dx)\n",
    "    for psi_t in results[\"psi_history\"]\n",
    "]"
   ]
  }
 ],
 "metadata": {
  "kernelspec": {
   "display_name": "Python 3 (ipykernel)",
   "language": "python",
   "name": "python3"
  },
  "language_info": {
   "codemirror_mode": {
    "name": "ipython",
    "version": 3
   },
   "file_extension": ".py",
   "mimetype": "text/x-python",
   "name": "python",
   "nbconvert_exporter": "python",
   "pygments_lexer": "ipython3",
   "version": "3.13.3"
  }
 },
 "nbformat": 4,
 "nbformat_minor": 5
}
